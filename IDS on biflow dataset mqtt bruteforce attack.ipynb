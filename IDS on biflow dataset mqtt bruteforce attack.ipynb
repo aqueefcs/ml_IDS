{
 "cells": [
  {
   "cell_type": "code",
   "execution_count": 116,
   "id": "ed6702dc",
   "metadata": {},
   "outputs": [],
   "source": [
    "import pandas as pd\n",
    "import numpy as np"
   ]
  },
  {
   "cell_type": "code",
   "execution_count": 117,
   "id": "896c93a8",
   "metadata": {},
   "outputs": [],
   "source": [
    "df = pd.read_csv(\"UNSW_2018_IoT_Botnet_Dataset_1.csv\",delimiter=',', quotechar='\"',index_col=0,low_memory=False)"
   ]
  },
  {
   "cell_type": "code",
   "execution_count": 118,
   "id": "86882049",
   "metadata": {},
   "outputs": [
    {
     "data": {
      "text/html": [
       "<div>\n",
       "<style scoped>\n",
       "    .dataframe tbody tr th:only-of-type {\n",
       "        vertical-align: middle;\n",
       "    }\n",
       "\n",
       "    .dataframe tbody tr th {\n",
       "        vertical-align: top;\n",
       "    }\n",
       "\n",
       "    .dataframe thead th {\n",
       "        text-align: right;\n",
       "    }\n",
       "</style>\n",
       "<table border=\"1\" class=\"dataframe\">\n",
       "  <thead>\n",
       "    <tr style=\"text-align: right;\">\n",
       "      <th></th>\n",
       "      <th>B</th>\n",
       "      <th>C</th>\n",
       "      <th>D</th>\n",
       "      <th>E</th>\n",
       "      <th>F</th>\n",
       "      <th>G</th>\n",
       "      <th>H</th>\n",
       "      <th>I</th>\n",
       "      <th>J</th>\n",
       "      <th>K</th>\n",
       "      <th>...</th>\n",
       "      <th>Z</th>\n",
       "      <th>AA</th>\n",
       "      <th>AB</th>\n",
       "      <th>AC</th>\n",
       "      <th>AD</th>\n",
       "      <th>AE</th>\n",
       "      <th>AF</th>\n",
       "      <th>label</th>\n",
       "      <th>Normal</th>\n",
       "      <th>Normal.1</th>\n",
       "    </tr>\n",
       "    <tr>\n",
       "      <th>A</th>\n",
       "      <th></th>\n",
       "      <th></th>\n",
       "      <th></th>\n",
       "      <th></th>\n",
       "      <th></th>\n",
       "      <th></th>\n",
       "      <th></th>\n",
       "      <th></th>\n",
       "      <th></th>\n",
       "      <th></th>\n",
       "      <th></th>\n",
       "      <th></th>\n",
       "      <th></th>\n",
       "      <th></th>\n",
       "      <th></th>\n",
       "      <th></th>\n",
       "      <th></th>\n",
       "      <th></th>\n",
       "      <th></th>\n",
       "      <th></th>\n",
       "      <th></th>\n",
       "    </tr>\n",
       "  </thead>\n",
       "  <tbody>\n",
       "    <tr>\n",
       "      <th>2</th>\n",
       "      <td>1526344223</td>\n",
       "      <td>e</td>\n",
       "      <td>tcp</td>\n",
       "      <td>192.168.100.7</td>\n",
       "      <td>139</td>\n",
       "      <td>192.168.100.4</td>\n",
       "      <td>36390</td>\n",
       "      <td>10</td>\n",
       "      <td>680</td>\n",
       "      <td>CON</td>\n",
       "      <td>...</td>\n",
       "      <td>5</td>\n",
       "      <td>5</td>\n",
       "      <td>350</td>\n",
       "      <td>330</td>\n",
       "      <td>0.006190</td>\n",
       "      <td>0.002751</td>\n",
       "      <td>0.002751</td>\n",
       "      <td>0</td>\n",
       "      <td>Normal</td>\n",
       "      <td>Normal</td>\n",
       "    </tr>\n",
       "    <tr>\n",
       "      <th>3</th>\n",
       "      <td>1526344227</td>\n",
       "      <td>e</td>\n",
       "      <td>udp</td>\n",
       "      <td>192.168.100.149</td>\n",
       "      <td>51838</td>\n",
       "      <td>27.124.125.250</td>\n",
       "      <td>123</td>\n",
       "      <td>2</td>\n",
       "      <td>180</td>\n",
       "      <td>CON</td>\n",
       "      <td>...</td>\n",
       "      <td>1</td>\n",
       "      <td>1</td>\n",
       "      <td>90</td>\n",
       "      <td>90</td>\n",
       "      <td>20.590960</td>\n",
       "      <td>0.000000</td>\n",
       "      <td>0.000000</td>\n",
       "      <td>0</td>\n",
       "      <td>Normal</td>\n",
       "      <td>Normal</td>\n",
       "    </tr>\n",
       "    <tr>\n",
       "      <th>4</th>\n",
       "      <td>1526344228</td>\n",
       "      <td>e</td>\n",
       "      <td>arp</td>\n",
       "      <td>192.168.100.4</td>\n",
       "      <td>NaN</td>\n",
       "      <td>192.168.100.7</td>\n",
       "      <td>NaN</td>\n",
       "      <td>10</td>\n",
       "      <td>510</td>\n",
       "      <td>CON</td>\n",
       "      <td>...</td>\n",
       "      <td>5</td>\n",
       "      <td>5</td>\n",
       "      <td>210</td>\n",
       "      <td>300</td>\n",
       "      <td>0.006189</td>\n",
       "      <td>0.002751</td>\n",
       "      <td>0.002751</td>\n",
       "      <td>0</td>\n",
       "      <td>Normal</td>\n",
       "      <td>Normal</td>\n",
       "    </tr>\n",
       "    <tr>\n",
       "      <th>5</th>\n",
       "      <td>1526344303</td>\n",
       "      <td>e</td>\n",
       "      <td>udp</td>\n",
       "      <td>192.168.100.27</td>\n",
       "      <td>58999</td>\n",
       "      <td>192.168.100.1</td>\n",
       "      <td>53</td>\n",
       "      <td>4</td>\n",
       "      <td>630</td>\n",
       "      <td>CON</td>\n",
       "      <td>...</td>\n",
       "      <td>2</td>\n",
       "      <td>2</td>\n",
       "      <td>174</td>\n",
       "      <td>456</td>\n",
       "      <td>0.005264</td>\n",
       "      <td>0.001755</td>\n",
       "      <td>0.001755</td>\n",
       "      <td>0</td>\n",
       "      <td>Normal</td>\n",
       "      <td>Normal</td>\n",
       "    </tr>\n",
       "    <tr>\n",
       "      <th>6</th>\n",
       "      <td>1526344303</td>\n",
       "      <td>e</td>\n",
       "      <td>arp</td>\n",
       "      <td>192.168.100.1</td>\n",
       "      <td>NaN</td>\n",
       "      <td>192.168.100.27</td>\n",
       "      <td>NaN</td>\n",
       "      <td>2</td>\n",
       "      <td>120</td>\n",
       "      <td>CON</td>\n",
       "      <td>...</td>\n",
       "      <td>1</td>\n",
       "      <td>1</td>\n",
       "      <td>60</td>\n",
       "      <td>60</td>\n",
       "      <td>2724.795654</td>\n",
       "      <td>0.000000</td>\n",
       "      <td>0.000000</td>\n",
       "      <td>0</td>\n",
       "      <td>Normal</td>\n",
       "      <td>Normal</td>\n",
       "    </tr>\n",
       "  </tbody>\n",
       "</table>\n",
       "<p>5 rows × 34 columns</p>\n",
       "</div>"
      ],
      "text/plain": [
       "            B  C    D                E      F               G      H   I    J  \\\n",
       "A                                                                               \n",
       "2  1526344223  e  tcp    192.168.100.7    139   192.168.100.4  36390  10  680   \n",
       "3  1526344227  e  udp  192.168.100.149  51838  27.124.125.250    123   2  180   \n",
       "4  1526344228  e  arp    192.168.100.4    NaN   192.168.100.7    NaN  10  510   \n",
       "5  1526344303  e  udp   192.168.100.27  58999   192.168.100.1     53   4  630   \n",
       "6  1526344303  e  arp    192.168.100.1    NaN  192.168.100.27    NaN   2  120   \n",
       "\n",
       "     K  ...  Z  AA   AB   AC           AD        AE        AF  label  Normal  \\\n",
       "A       ...                                                                    \n",
       "2  CON  ...  5   5  350  330     0.006190  0.002751  0.002751      0  Normal   \n",
       "3  CON  ...  1   1   90   90    20.590960  0.000000  0.000000      0  Normal   \n",
       "4  CON  ...  5   5  210  300     0.006189  0.002751  0.002751      0  Normal   \n",
       "5  CON  ...  2   2  174  456     0.005264  0.001755  0.001755      0  Normal   \n",
       "6  CON  ...  1   1   60   60  2724.795654  0.000000  0.000000      0  Normal   \n",
       "\n",
       "   Normal.1  \n",
       "A            \n",
       "2    Normal  \n",
       "3    Normal  \n",
       "4    Normal  \n",
       "5    Normal  \n",
       "6    Normal  \n",
       "\n",
       "[5 rows x 34 columns]"
      ]
     },
     "execution_count": 118,
     "metadata": {},
     "output_type": "execute_result"
    }
   ],
   "source": [
    "df.head()"
   ]
  },
  {
   "cell_type": "code",
   "execution_count": 119,
   "id": "42f2eae6",
   "metadata": {},
   "outputs": [],
   "source": [
    "df = df[[\"J\",\"N\",\"O\",\"P\",\"S\",\"T\",\"U\",\"AD\",\"AE\",\"label\"]]"
   ]
  },
  {
   "cell_type": "code",
   "execution_count": 120,
   "id": "a5a21ebc",
   "metadata": {},
   "outputs": [
    {
     "data": {
      "text/html": [
       "<div>\n",
       "<style scoped>\n",
       "    .dataframe tbody tr th:only-of-type {\n",
       "        vertical-align: middle;\n",
       "    }\n",
       "\n",
       "    .dataframe tbody tr th {\n",
       "        vertical-align: top;\n",
       "    }\n",
       "\n",
       "    .dataframe thead th {\n",
       "        text-align: right;\n",
       "    }\n",
       "</style>\n",
       "<table border=\"1\" class=\"dataframe\">\n",
       "  <thead>\n",
       "    <tr style=\"text-align: right;\">\n",
       "      <th></th>\n",
       "      <th>J</th>\n",
       "      <th>N</th>\n",
       "      <th>O</th>\n",
       "      <th>P</th>\n",
       "      <th>S</th>\n",
       "      <th>T</th>\n",
       "      <th>U</th>\n",
       "      <th>AD</th>\n",
       "      <th>AE</th>\n",
       "      <th>label</th>\n",
       "    </tr>\n",
       "    <tr>\n",
       "      <th>A</th>\n",
       "      <th></th>\n",
       "      <th></th>\n",
       "      <th></th>\n",
       "      <th></th>\n",
       "      <th></th>\n",
       "      <th></th>\n",
       "      <th></th>\n",
       "      <th></th>\n",
       "      <th></th>\n",
       "      <th></th>\n",
       "    </tr>\n",
       "  </thead>\n",
       "  <tbody>\n",
       "    <tr>\n",
       "      <th>2</th>\n",
       "      <td>680</td>\n",
       "      <td>1453.945923</td>\n",
       "      <td>0.000028</td>\n",
       "      <td>0.000008</td>\n",
       "      <td>0.000138</td>\n",
       "      <td>0.000022</td>\n",
       "      <td>0.000042</td>\n",
       "      <td>0.006190</td>\n",
       "      <td>0.002751</td>\n",
       "      <td>0</td>\n",
       "    </tr>\n",
       "    <tr>\n",
       "      <th>3</th>\n",
       "      <td>180</td>\n",
       "      <td>0.048565</td>\n",
       "      <td>0.048565</td>\n",
       "      <td>0.000000</td>\n",
       "      <td>0.048565</td>\n",
       "      <td>0.048565</td>\n",
       "      <td>0.048565</td>\n",
       "      <td>20.590960</td>\n",
       "      <td>0.000000</td>\n",
       "      <td>0</td>\n",
       "    </tr>\n",
       "    <tr>\n",
       "      <th>4</th>\n",
       "      <td>510</td>\n",
       "      <td>1454.080322</td>\n",
       "      <td>0.000238</td>\n",
       "      <td>0.000022</td>\n",
       "      <td>0.001189</td>\n",
       "      <td>0.000199</td>\n",
       "      <td>0.000261</td>\n",
       "      <td>0.006189</td>\n",
       "      <td>0.002751</td>\n",
       "      <td>0</td>\n",
       "    </tr>\n",
       "    <tr>\n",
       "      <th>5</th>\n",
       "      <td>630</td>\n",
       "      <td>569.933960</td>\n",
       "      <td>0.098505</td>\n",
       "      <td>0.080150</td>\n",
       "      <td>0.197011</td>\n",
       "      <td>0.018356</td>\n",
       "      <td>0.178655</td>\n",
       "      <td>0.005264</td>\n",
       "      <td>0.001755</td>\n",
       "      <td>0</td>\n",
       "    </tr>\n",
       "    <tr>\n",
       "      <th>6</th>\n",
       "      <td>120</td>\n",
       "      <td>0.000367</td>\n",
       "      <td>0.000367</td>\n",
       "      <td>0.000000</td>\n",
       "      <td>0.000367</td>\n",
       "      <td>0.000367</td>\n",
       "      <td>0.000367</td>\n",
       "      <td>2724.795654</td>\n",
       "      <td>0.000000</td>\n",
       "      <td>0</td>\n",
       "    </tr>\n",
       "  </tbody>\n",
       "</table>\n",
       "</div>"
      ],
      "text/plain": [
       "     J            N         O         P         S         T         U  \\\n",
       "A                                                                       \n",
       "2  680  1453.945923  0.000028  0.000008  0.000138  0.000022  0.000042   \n",
       "3  180     0.048565  0.048565  0.000000  0.048565  0.048565  0.048565   \n",
       "4  510  1454.080322  0.000238  0.000022  0.001189  0.000199  0.000261   \n",
       "5  630   569.933960  0.098505  0.080150  0.197011  0.018356  0.178655   \n",
       "6  120     0.000367  0.000367  0.000000  0.000367  0.000367  0.000367   \n",
       "\n",
       "            AD        AE  label  \n",
       "A                                \n",
       "2     0.006190  0.002751      0  \n",
       "3    20.590960  0.000000      0  \n",
       "4     0.006189  0.002751      0  \n",
       "5     0.005264  0.001755      0  \n",
       "6  2724.795654  0.000000      0  "
      ]
     },
     "execution_count": 120,
     "metadata": {},
     "output_type": "execute_result"
    }
   ],
   "source": [
    "df.head()"
   ]
  },
  {
   "cell_type": "code",
   "execution_count": 121,
   "id": "90b7b6ea",
   "metadata": {},
   "outputs": [
    {
     "data": {
      "text/html": [
       "<div>\n",
       "<style scoped>\n",
       "    .dataframe tbody tr th:only-of-type {\n",
       "        vertical-align: middle;\n",
       "    }\n",
       "\n",
       "    .dataframe tbody tr th {\n",
       "        vertical-align: top;\n",
       "    }\n",
       "\n",
       "    .dataframe thead th {\n",
       "        text-align: right;\n",
       "    }\n",
       "</style>\n",
       "<table border=\"1\" class=\"dataframe\">\n",
       "  <thead>\n",
       "    <tr style=\"text-align: right;\">\n",
       "      <th></th>\n",
       "      <th>J</th>\n",
       "      <th>N</th>\n",
       "      <th>O</th>\n",
       "      <th>P</th>\n",
       "      <th>S</th>\n",
       "      <th>T</th>\n",
       "      <th>U</th>\n",
       "      <th>AD</th>\n",
       "      <th>AE</th>\n",
       "      <th>label</th>\n",
       "    </tr>\n",
       "    <tr>\n",
       "      <th>A</th>\n",
       "      <th></th>\n",
       "      <th></th>\n",
       "      <th></th>\n",
       "      <th></th>\n",
       "      <th></th>\n",
       "      <th></th>\n",
       "      <th></th>\n",
       "      <th></th>\n",
       "      <th></th>\n",
       "      <th></th>\n",
       "    </tr>\n",
       "  </thead>\n",
       "  <tbody>\n",
       "    <tr>\n",
       "      <th>2</th>\n",
       "      <td>680</td>\n",
       "      <td>1453.945923</td>\n",
       "      <td>0.000028</td>\n",
       "      <td>0.000008</td>\n",
       "      <td>0.000138</td>\n",
       "      <td>0.000022</td>\n",
       "      <td>0.000042</td>\n",
       "      <td>0.006190</td>\n",
       "      <td>0.002751</td>\n",
       "      <td>0</td>\n",
       "    </tr>\n",
       "    <tr>\n",
       "      <th>3</th>\n",
       "      <td>180</td>\n",
       "      <td>0.048565</td>\n",
       "      <td>0.048565</td>\n",
       "      <td>0.000000</td>\n",
       "      <td>0.048565</td>\n",
       "      <td>0.048565</td>\n",
       "      <td>0.048565</td>\n",
       "      <td>20.590960</td>\n",
       "      <td>0.000000</td>\n",
       "      <td>0</td>\n",
       "    </tr>\n",
       "    <tr>\n",
       "      <th>4</th>\n",
       "      <td>510</td>\n",
       "      <td>1454.080322</td>\n",
       "      <td>0.000238</td>\n",
       "      <td>0.000022</td>\n",
       "      <td>0.001189</td>\n",
       "      <td>0.000199</td>\n",
       "      <td>0.000261</td>\n",
       "      <td>0.006189</td>\n",
       "      <td>0.002751</td>\n",
       "      <td>0</td>\n",
       "    </tr>\n",
       "    <tr>\n",
       "      <th>5</th>\n",
       "      <td>630</td>\n",
       "      <td>569.933960</td>\n",
       "      <td>0.098505</td>\n",
       "      <td>0.080150</td>\n",
       "      <td>0.197011</td>\n",
       "      <td>0.018356</td>\n",
       "      <td>0.178655</td>\n",
       "      <td>0.005264</td>\n",
       "      <td>0.001755</td>\n",
       "      <td>0</td>\n",
       "    </tr>\n",
       "    <tr>\n",
       "      <th>6</th>\n",
       "      <td>120</td>\n",
       "      <td>0.000367</td>\n",
       "      <td>0.000367</td>\n",
       "      <td>0.000000</td>\n",
       "      <td>0.000367</td>\n",
       "      <td>0.000367</td>\n",
       "      <td>0.000367</td>\n",
       "      <td>2724.795654</td>\n",
       "      <td>0.000000</td>\n",
       "      <td>0</td>\n",
       "    </tr>\n",
       "  </tbody>\n",
       "</table>\n",
       "</div>"
      ],
      "text/plain": [
       "     J            N         O         P         S         T         U  \\\n",
       "A                                                                       \n",
       "2  680  1453.945923  0.000028  0.000008  0.000138  0.000022  0.000042   \n",
       "3  180     0.048565  0.048565  0.000000  0.048565  0.048565  0.048565   \n",
       "4  510  1454.080322  0.000238  0.000022  0.001189  0.000199  0.000261   \n",
       "5  630   569.933960  0.098505  0.080150  0.197011  0.018356  0.178655   \n",
       "6  120     0.000367  0.000367  0.000000  0.000367  0.000367  0.000367   \n",
       "\n",
       "            AD        AE  label  \n",
       "A                                \n",
       "2     0.006190  0.002751      0  \n",
       "3    20.590960  0.000000      0  \n",
       "4     0.006189  0.002751      0  \n",
       "5     0.005264  0.001755      0  \n",
       "6  2724.795654  0.000000      0  "
      ]
     },
     "execution_count": 121,
     "metadata": {},
     "output_type": "execute_result"
    }
   ],
   "source": [
    "df[df.label == 0].head()"
   ]
  },
  {
   "cell_type": "code",
   "execution_count": 122,
   "id": "c0ea1777",
   "metadata": {
    "scrolled": true
   },
   "outputs": [
    {
     "data": {
      "text/html": [
       "<div>\n",
       "<style scoped>\n",
       "    .dataframe tbody tr th:only-of-type {\n",
       "        vertical-align: middle;\n",
       "    }\n",
       "\n",
       "    .dataframe tbody tr th {\n",
       "        vertical-align: top;\n",
       "    }\n",
       "\n",
       "    .dataframe thead th {\n",
       "        text-align: right;\n",
       "    }\n",
       "</style>\n",
       "<table border=\"1\" class=\"dataframe\">\n",
       "  <thead>\n",
       "    <tr style=\"text-align: right;\">\n",
       "      <th></th>\n",
       "      <th>J</th>\n",
       "      <th>N</th>\n",
       "      <th>O</th>\n",
       "      <th>P</th>\n",
       "      <th>S</th>\n",
       "      <th>T</th>\n",
       "      <th>U</th>\n",
       "      <th>AD</th>\n",
       "      <th>AE</th>\n",
       "      <th>label</th>\n",
       "    </tr>\n",
       "    <tr>\n",
       "      <th>A</th>\n",
       "      <th></th>\n",
       "      <th></th>\n",
       "      <th></th>\n",
       "      <th></th>\n",
       "      <th></th>\n",
       "      <th></th>\n",
       "      <th></th>\n",
       "      <th></th>\n",
       "      <th></th>\n",
       "      <th></th>\n",
       "    </tr>\n",
       "  </thead>\n",
       "  <tbody>\n",
       "    <tr>\n",
       "      <th>13</th>\n",
       "      <td>120</td>\n",
       "      <td>0.000108</td>\n",
       "      <td>0.000108</td>\n",
       "      <td>0.0</td>\n",
       "      <td>0.000108</td>\n",
       "      <td>0.000108</td>\n",
       "      <td>0.000108</td>\n",
       "      <td>9259.258789</td>\n",
       "      <td>0.00000</td>\n",
       "      <td>1</td>\n",
       "    </tr>\n",
       "    <tr>\n",
       "      <th>14</th>\n",
       "      <td>120</td>\n",
       "      <td>0.000107</td>\n",
       "      <td>0.000107</td>\n",
       "      <td>0.0</td>\n",
       "      <td>0.000107</td>\n",
       "      <td>0.000107</td>\n",
       "      <td>0.000107</td>\n",
       "      <td>9345.793945</td>\n",
       "      <td>0.00000</td>\n",
       "      <td>1</td>\n",
       "    </tr>\n",
       "    <tr>\n",
       "      <th>15</th>\n",
       "      <td>180</td>\n",
       "      <td>0.000220</td>\n",
       "      <td>0.000220</td>\n",
       "      <td>0.0</td>\n",
       "      <td>0.000220</td>\n",
       "      <td>0.000220</td>\n",
       "      <td>0.000220</td>\n",
       "      <td>9090.909180</td>\n",
       "      <td>4545.45459</td>\n",
       "      <td>1</td>\n",
       "    </tr>\n",
       "    <tr>\n",
       "      <th>16</th>\n",
       "      <td>120</td>\n",
       "      <td>0.000131</td>\n",
       "      <td>0.000131</td>\n",
       "      <td>0.0</td>\n",
       "      <td>0.000131</td>\n",
       "      <td>0.000131</td>\n",
       "      <td>0.000131</td>\n",
       "      <td>7633.588379</td>\n",
       "      <td>0.00000</td>\n",
       "      <td>1</td>\n",
       "    </tr>\n",
       "    <tr>\n",
       "      <th>17</th>\n",
       "      <td>120</td>\n",
       "      <td>0.000130</td>\n",
       "      <td>0.000130</td>\n",
       "      <td>0.0</td>\n",
       "      <td>0.000130</td>\n",
       "      <td>0.000130</td>\n",
       "      <td>0.000130</td>\n",
       "      <td>7692.307617</td>\n",
       "      <td>0.00000</td>\n",
       "      <td>1</td>\n",
       "    </tr>\n",
       "  </tbody>\n",
       "</table>\n",
       "</div>"
      ],
      "text/plain": [
       "      J         N         O    P         S         T         U           AD  \\\n",
       "A                                                                             \n",
       "13  120  0.000108  0.000108  0.0  0.000108  0.000108  0.000108  9259.258789   \n",
       "14  120  0.000107  0.000107  0.0  0.000107  0.000107  0.000107  9345.793945   \n",
       "15  180  0.000220  0.000220  0.0  0.000220  0.000220  0.000220  9090.909180   \n",
       "16  120  0.000131  0.000131  0.0  0.000131  0.000131  0.000131  7633.588379   \n",
       "17  120  0.000130  0.000130  0.0  0.000130  0.000130  0.000130  7692.307617   \n",
       "\n",
       "            AE  label  \n",
       "A                      \n",
       "13     0.00000      1  \n",
       "14     0.00000      1  \n",
       "15  4545.45459      1  \n",
       "16     0.00000      1  \n",
       "17     0.00000      1  "
      ]
     },
     "execution_count": 122,
     "metadata": {},
     "output_type": "execute_result"
    }
   ],
   "source": [
    "df[df.label == 1].head()"
   ]
  },
  {
   "cell_type": "code",
   "execution_count": 123,
   "id": "27b44ce3",
   "metadata": {},
   "outputs": [
    {
     "data": {
      "text/plain": [
       "J          int64\n",
       "N        float64\n",
       "O        float64\n",
       "P        float64\n",
       "S        float64\n",
       "T        float64\n",
       "U        float64\n",
       "AD       float64\n",
       "AE       float64\n",
       "label      int64\n",
       "dtype: object"
      ]
     },
     "execution_count": 123,
     "metadata": {},
     "output_type": "execute_result"
    }
   ],
   "source": [
    "df.dtypes"
   ]
  },
  {
   "cell_type": "code",
   "execution_count": 124,
   "id": "e4e7d41f",
   "metadata": {},
   "outputs": [
    {
     "data": {
      "text/html": [
       "<div>\n",
       "<style scoped>\n",
       "    .dataframe tbody tr th:only-of-type {\n",
       "        vertical-align: middle;\n",
       "    }\n",
       "\n",
       "    .dataframe tbody tr th {\n",
       "        vertical-align: top;\n",
       "    }\n",
       "\n",
       "    .dataframe thead th {\n",
       "        text-align: right;\n",
       "    }\n",
       "</style>\n",
       "<table border=\"1\" class=\"dataframe\">\n",
       "  <thead>\n",
       "    <tr style=\"text-align: right;\">\n",
       "      <th></th>\n",
       "      <th>J</th>\n",
       "      <th>N</th>\n",
       "      <th>O</th>\n",
       "      <th>P</th>\n",
       "      <th>S</th>\n",
       "      <th>T</th>\n",
       "      <th>U</th>\n",
       "      <th>AD</th>\n",
       "      <th>AE</th>\n",
       "      <th>label</th>\n",
       "    </tr>\n",
       "    <tr>\n",
       "      <th>A</th>\n",
       "      <th></th>\n",
       "      <th></th>\n",
       "      <th></th>\n",
       "      <th></th>\n",
       "      <th></th>\n",
       "      <th></th>\n",
       "      <th></th>\n",
       "      <th></th>\n",
       "      <th></th>\n",
       "      <th></th>\n",
       "    </tr>\n",
       "  </thead>\n",
       "  <tbody>\n",
       "    <tr>\n",
       "      <th>2</th>\n",
       "      <td>680</td>\n",
       "      <td>1453.945923</td>\n",
       "      <td>0.000028</td>\n",
       "      <td>0.000008</td>\n",
       "      <td>0.000138</td>\n",
       "      <td>0.000022</td>\n",
       "      <td>0.000042</td>\n",
       "      <td>0.006190</td>\n",
       "      <td>0.002751</td>\n",
       "      <td>0</td>\n",
       "    </tr>\n",
       "    <tr>\n",
       "      <th>3</th>\n",
       "      <td>180</td>\n",
       "      <td>0.048565</td>\n",
       "      <td>0.048565</td>\n",
       "      <td>0.000000</td>\n",
       "      <td>0.048565</td>\n",
       "      <td>0.048565</td>\n",
       "      <td>0.048565</td>\n",
       "      <td>20.590960</td>\n",
       "      <td>0.000000</td>\n",
       "      <td>0</td>\n",
       "    </tr>\n",
       "    <tr>\n",
       "      <th>4</th>\n",
       "      <td>510</td>\n",
       "      <td>1454.080322</td>\n",
       "      <td>0.000238</td>\n",
       "      <td>0.000022</td>\n",
       "      <td>0.001189</td>\n",
       "      <td>0.000199</td>\n",
       "      <td>0.000261</td>\n",
       "      <td>0.006189</td>\n",
       "      <td>0.002751</td>\n",
       "      <td>0</td>\n",
       "    </tr>\n",
       "    <tr>\n",
       "      <th>5</th>\n",
       "      <td>630</td>\n",
       "      <td>569.933960</td>\n",
       "      <td>0.098505</td>\n",
       "      <td>0.080150</td>\n",
       "      <td>0.197011</td>\n",
       "      <td>0.018356</td>\n",
       "      <td>0.178655</td>\n",
       "      <td>0.005264</td>\n",
       "      <td>0.001755</td>\n",
       "      <td>0</td>\n",
       "    </tr>\n",
       "    <tr>\n",
       "      <th>6</th>\n",
       "      <td>120</td>\n",
       "      <td>0.000367</td>\n",
       "      <td>0.000367</td>\n",
       "      <td>0.000000</td>\n",
       "      <td>0.000367</td>\n",
       "      <td>0.000367</td>\n",
       "      <td>0.000367</td>\n",
       "      <td>2724.795654</td>\n",
       "      <td>0.000000</td>\n",
       "      <td>0</td>\n",
       "    </tr>\n",
       "  </tbody>\n",
       "</table>\n",
       "</div>"
      ],
      "text/plain": [
       "     J            N         O         P         S         T         U  \\\n",
       "A                                                                       \n",
       "2  680  1453.945923  0.000028  0.000008  0.000138  0.000022  0.000042   \n",
       "3  180     0.048565  0.048565  0.000000  0.048565  0.048565  0.048565   \n",
       "4  510  1454.080322  0.000238  0.000022  0.001189  0.000199  0.000261   \n",
       "5  630   569.933960  0.098505  0.080150  0.197011  0.018356  0.178655   \n",
       "6  120     0.000367  0.000367  0.000000  0.000367  0.000367  0.000367   \n",
       "\n",
       "            AD        AE  label  \n",
       "A                                \n",
       "2     0.006190  0.002751      0  \n",
       "3    20.590960  0.000000      0  \n",
       "4     0.006189  0.002751      0  \n",
       "5     0.005264  0.001755      0  \n",
       "6  2724.795654  0.000000      0  "
      ]
     },
     "execution_count": 124,
     "metadata": {},
     "output_type": "execute_result"
    }
   ],
   "source": [
    "df.head()"
   ]
  },
  {
   "cell_type": "code",
   "execution_count": 125,
   "id": "240b68d1",
   "metadata": {},
   "outputs": [],
   "source": [
    "from sklearn.model_selection import train_test_split"
   ]
  },
  {
   "cell_type": "code",
   "execution_count": 126,
   "id": "b7699535",
   "metadata": {},
   "outputs": [],
   "source": [
    "x = df.drop('label', axis='columns')"
   ]
  },
  {
   "cell_type": "code",
   "execution_count": 127,
   "id": "ad74362a",
   "metadata": {},
   "outputs": [],
   "source": [
    "y = df.label"
   ]
  },
  {
   "cell_type": "code",
   "execution_count": 128,
   "id": "68a26953",
   "metadata": {},
   "outputs": [],
   "source": [
    "X_train,x_test,y_train,y_test=train_test_split(x,y,test_size=0.2,random_state=1)"
   ]
  },
  {
   "cell_type": "code",
   "execution_count": 129,
   "id": "66bcf7b7",
   "metadata": {},
   "outputs": [
    {
     "data": {
      "text/plain": [
       "799999"
      ]
     },
     "execution_count": 129,
     "metadata": {},
     "output_type": "execute_result"
    }
   ],
   "source": [
    "len(X_train)"
   ]
  },
  {
   "cell_type": "code",
   "execution_count": 130,
   "id": "6c9c6a6f",
   "metadata": {},
   "outputs": [
    {
     "data": {
      "text/plain": [
       "200000"
      ]
     },
     "execution_count": 130,
     "metadata": {},
     "output_type": "execute_result"
    }
   ],
   "source": [
    "len(x_test)"
   ]
  },
  {
   "cell_type": "code",
   "execution_count": 131,
   "id": "28b01148",
   "metadata": {},
   "outputs": [],
   "source": [
    "from sklearn.preprocessing import StandardScaler"
   ]
  },
  {
   "cell_type": "code",
   "execution_count": 132,
   "id": "5e288b84",
   "metadata": {},
   "outputs": [
    {
     "data": {
      "text/plain": [
       "StandardScaler()"
      ]
     },
     "execution_count": 132,
     "metadata": {},
     "output_type": "execute_result"
    }
   ],
   "source": [
    "scaler = StandardScaler()\n",
    "scaler.fit(X_train)"
   ]
  },
  {
   "cell_type": "code",
   "execution_count": 133,
   "id": "dbe0c1f7",
   "metadata": {},
   "outputs": [],
   "source": [
    "X_train = scaler.transform(X_train)\n",
    "x_test = scaler.transform(x_test)"
   ]
  },
  {
   "cell_type": "code",
   "execution_count": 77,
   "id": "e3cac8c5",
   "metadata": {},
   "outputs": [],
   "source": [
    "from sklearn.neighbors import KNeighborsClassifier"
   ]
  },
  {
   "cell_type": "code",
   "execution_count": 78,
   "id": "a3fbbeec",
   "metadata": {},
   "outputs": [],
   "source": [
    "knn = KNeighborsClassifier(n_neighbors = 5)"
   ]
  },
  {
   "cell_type": "code",
   "execution_count": 79,
   "id": "0379bef9",
   "metadata": {
    "scrolled": true
   },
   "outputs": [
    {
     "data": {
      "text/plain": [
       "KNeighborsClassifier()"
      ]
     },
     "execution_count": 79,
     "metadata": {},
     "output_type": "execute_result"
    }
   ],
   "source": [
    "knn.fit(X_train,y_train)"
   ]
  },
  {
   "cell_type": "code",
   "execution_count": 80,
   "id": "cc4ec3b1",
   "metadata": {},
   "outputs": [
    {
     "data": {
      "text/plain": [
       "0.99938"
      ]
     },
     "execution_count": 80,
     "metadata": {},
     "output_type": "execute_result"
    }
   ],
   "source": [
    "knn.score(x_test,y_test)"
   ]
  },
  {
   "cell_type": "code",
   "execution_count": 81,
   "id": "573b1924",
   "metadata": {},
   "outputs": [],
   "source": [
    "from sklearn.metrics import confusion_matrix\n",
    "y_pred = knn.predict(x_test)\n",
    "cm = confusion_matrix(y_test,y_pred)"
   ]
  },
  {
   "cell_type": "code",
   "execution_count": 82,
   "id": "75b37a39",
   "metadata": {},
   "outputs": [
    {
     "data": {
      "text/plain": [
       "array([[   291,    116],\n",
       "       [     8, 199585]], dtype=int64)"
      ]
     },
     "execution_count": 82,
     "metadata": {},
     "output_type": "execute_result"
    }
   ],
   "source": [
    "cm"
   ]
  },
  {
   "cell_type": "code",
   "execution_count": 103,
   "id": "71f3ff22",
   "metadata": {},
   "outputs": [
    {
     "name": "stdout",
     "output_type": "stream",
     "text": [
      "              precision    recall  f1-score   support\n",
      "\n",
      "           0       0.99      0.99      0.99     70147\n",
      "           1       0.95      0.96      0.95     17862\n",
      "\n",
      "    accuracy                           0.98     88009\n",
      "   macro avg       0.97      0.97      0.97     88009\n",
      "weighted avg       0.98      0.98      0.98     88009\n",
      "\n"
     ]
    }
   ],
   "source": [
    "from sklearn.metrics import classification_report\n",
    "print(classification_report(y_test,y_pred))"
   ]
  },
  {
   "cell_type": "code",
   "execution_count": 83,
   "id": "50d1faf1",
   "metadata": {},
   "outputs": [],
   "source": [
    "#Random Forest Classification"
   ]
  },
  {
   "cell_type": "code",
   "execution_count": 84,
   "id": "9ac4ea8a",
   "metadata": {},
   "outputs": [],
   "source": [
    "from sklearn.ensemble import RandomForestClassifier"
   ]
  },
  {
   "cell_type": "code",
   "execution_count": 85,
   "id": "ecac79ee",
   "metadata": {},
   "outputs": [],
   "source": [
    "clf = RandomForestClassifier(max_depth=2, random_state=0)"
   ]
  },
  {
   "cell_type": "code",
   "execution_count": 86,
   "id": "f41a2984",
   "metadata": {},
   "outputs": [
    {
     "data": {
      "text/plain": [
       "RandomForestClassifier(max_depth=2, random_state=0)"
      ]
     },
     "execution_count": 86,
     "metadata": {},
     "output_type": "execute_result"
    }
   ],
   "source": [
    "clf.fit(X_train,y_train)"
   ]
  },
  {
   "cell_type": "code",
   "execution_count": 87,
   "id": "ff6e147f",
   "metadata": {},
   "outputs": [
    {
     "data": {
      "text/plain": [
       "0.998225"
      ]
     },
     "execution_count": 87,
     "metadata": {},
     "output_type": "execute_result"
    }
   ],
   "source": [
    "clf.score(x_test,y_test)"
   ]
  },
  {
   "cell_type": "code",
   "execution_count": 88,
   "id": "5f0a2676",
   "metadata": {},
   "outputs": [],
   "source": [
    "from sklearn.metrics import confusion_matrix\n",
    "y_pred = clf.predict(x_test)\n",
    "cm = confusion_matrix(y_test,y_pred)"
   ]
  },
  {
   "cell_type": "code",
   "execution_count": 89,
   "id": "f855b42c",
   "metadata": {},
   "outputs": [
    {
     "data": {
      "text/plain": [
       "array([[    52,    355],\n",
       "       [     0, 199593]], dtype=int64)"
      ]
     },
     "execution_count": 89,
     "metadata": {},
     "output_type": "execute_result"
    }
   ],
   "source": [
    "cm"
   ]
  },
  {
   "cell_type": "code",
   "execution_count": 110,
   "id": "e6129a18",
   "metadata": {},
   "outputs": [
    {
     "name": "stdout",
     "output_type": "stream",
     "text": [
      "              precision    recall  f1-score   support\n",
      "\n",
      "           0       0.94      1.00      0.97     70147\n",
      "           1       0.98      0.75      0.85     17862\n",
      "\n",
      "    accuracy                           0.95     88009\n",
      "   macro avg       0.96      0.88      0.91     88009\n",
      "weighted avg       0.95      0.95      0.94     88009\n",
      "\n"
     ]
    }
   ],
   "source": [
    "from sklearn.metrics import classification_report\n",
    "print(classification_report(y_test,y_pred))"
   ]
  },
  {
   "cell_type": "code",
   "execution_count": 90,
   "id": "e5e41bd8",
   "metadata": {},
   "outputs": [],
   "source": [
    "#Decision tree classification"
   ]
  },
  {
   "cell_type": "code",
   "execution_count": 96,
   "id": "d6a2c78c",
   "metadata": {},
   "outputs": [],
   "source": [
    "from sklearn.tree import DecisionTreeClassifier\n",
    "dt = DecisionTreeClassifier(random_state=0, max_depth=2)"
   ]
  },
  {
   "cell_type": "code",
   "execution_count": 97,
   "id": "9c0a3351",
   "metadata": {},
   "outputs": [
    {
     "data": {
      "text/plain": [
       "DecisionTreeClassifier(max_depth=2, random_state=0)"
      ]
     },
     "execution_count": 97,
     "metadata": {},
     "output_type": "execute_result"
    }
   ],
   "source": [
    "dt.fit(X_train,y_train)"
   ]
  },
  {
   "cell_type": "code",
   "execution_count": 98,
   "id": "a6e6565d",
   "metadata": {},
   "outputs": [
    {
     "data": {
      "text/plain": [
       "0.998225"
      ]
     },
     "execution_count": 98,
     "metadata": {},
     "output_type": "execute_result"
    }
   ],
   "source": [
    "dt.score(x_test,y_test)"
   ]
  },
  {
   "cell_type": "code",
   "execution_count": 102,
   "id": "8c4b9a3b",
   "metadata": {},
   "outputs": [],
   "source": [
    "from sklearn.metrics import confusion_matrix\n",
    "y_pred = dt.predict(x_test)\n",
    "cm = confusion_matrix(y_test,y_pred)"
   ]
  },
  {
   "cell_type": "code",
   "execution_count": 103,
   "id": "25259520",
   "metadata": {},
   "outputs": [
    {
     "data": {
      "text/plain": [
       "array([[    52,    355],\n",
       "       [     0, 199593]], dtype=int64)"
      ]
     },
     "execution_count": 103,
     "metadata": {},
     "output_type": "execute_result"
    }
   ],
   "source": [
    "cm"
   ]
  },
  {
   "cell_type": "code",
   "execution_count": 104,
   "id": "cb4e8516",
   "metadata": {},
   "outputs": [
    {
     "name": "stdout",
     "output_type": "stream",
     "text": [
      "              precision    recall  f1-score   support\n",
      "\n",
      "           0       1.00      0.13      0.23       407\n",
      "           1       1.00      1.00      1.00    199593\n",
      "\n",
      "    accuracy                           1.00    200000\n",
      "   macro avg       1.00      0.56      0.61    200000\n",
      "weighted avg       1.00      1.00      1.00    200000\n",
      "\n"
     ]
    }
   ],
   "source": [
    "from sklearn.metrics import classification_report\n",
    "print(classification_report(y_test,y_pred))"
   ]
  },
  {
   "cell_type": "code",
   "execution_count": 105,
   "id": "584f6b45",
   "metadata": {},
   "outputs": [],
   "source": [
    "#Gaussian Naive Bayes"
   ]
  },
  {
   "cell_type": "code",
   "execution_count": 106,
   "id": "c1f2be3e",
   "metadata": {},
   "outputs": [],
   "source": [
    "from sklearn.naive_bayes import GaussianNB\n",
    "gnb = GaussianNB()"
   ]
  },
  {
   "cell_type": "code",
   "execution_count": 107,
   "id": "d63ae41a",
   "metadata": {},
   "outputs": [
    {
     "data": {
      "text/plain": [
       "GaussianNB()"
      ]
     },
     "execution_count": 107,
     "metadata": {},
     "output_type": "execute_result"
    }
   ],
   "source": [
    "gnb.fit(X_train,y_train)"
   ]
  },
  {
   "cell_type": "code",
   "execution_count": 108,
   "id": "60cc7d7a",
   "metadata": {},
   "outputs": [
    {
     "data": {
      "text/plain": [
       "0.989865"
      ]
     },
     "execution_count": 108,
     "metadata": {},
     "output_type": "execute_result"
    }
   ],
   "source": [
    "gnb.score(x_test,y_test)"
   ]
  },
  {
   "cell_type": "code",
   "execution_count": 109,
   "id": "03c19575",
   "metadata": {},
   "outputs": [],
   "source": [
    "from sklearn.metrics import confusion_matrix\n",
    "y_pred = gnb.predict(x_test)\n",
    "cm = confusion_matrix(y_test,y_pred)"
   ]
  },
  {
   "cell_type": "code",
   "execution_count": 110,
   "id": "2c0697d4",
   "metadata": {},
   "outputs": [
    {
     "data": {
      "text/plain": [
       "array([[    96,    311],\n",
       "       [  1716, 197877]], dtype=int64)"
      ]
     },
     "execution_count": 110,
     "metadata": {},
     "output_type": "execute_result"
    }
   ],
   "source": [
    "cm"
   ]
  },
  {
   "cell_type": "code",
   "execution_count": 111,
   "id": "4a068d8a",
   "metadata": {},
   "outputs": [
    {
     "name": "stdout",
     "output_type": "stream",
     "text": [
      "              precision    recall  f1-score   support\n",
      "\n",
      "           0       0.05      0.24      0.09       407\n",
      "           1       1.00      0.99      0.99    199593\n",
      "\n",
      "    accuracy                           0.99    200000\n",
      "   macro avg       0.53      0.61      0.54    200000\n",
      "weighted avg       1.00      0.99      0.99    200000\n",
      "\n"
     ]
    }
   ],
   "source": [
    "from sklearn.metrics import classification_report\n",
    "print(classification_report(y_test,y_pred))"
   ]
  },
  {
   "cell_type": "code",
   "execution_count": 112,
   "id": "634774e6",
   "metadata": {},
   "outputs": [],
   "source": [
    "#ANN classification"
   ]
  },
  {
   "cell_type": "code",
   "execution_count": 134,
   "id": "02c1f9c3",
   "metadata": {},
   "outputs": [],
   "source": [
    "from sklearn.neural_network import MLPClassifier"
   ]
  },
  {
   "cell_type": "code",
   "execution_count": 135,
   "id": "b9cf9420",
   "metadata": {},
   "outputs": [],
   "source": [
    "clf = MLPClassifier(solver='lbfgs', alpha=1e-5,hidden_layer_sizes=(5, 2), random_state=1)"
   ]
  },
  {
   "cell_type": "code",
   "execution_count": 136,
   "id": "61242ddc",
   "metadata": {},
   "outputs": [
    {
     "data": {
      "text/plain": [
       "MLPClassifier(alpha=1e-05, hidden_layer_sizes=(5, 2), random_state=1,\n",
       "              solver='lbfgs')"
      ]
     },
     "execution_count": 136,
     "metadata": {},
     "output_type": "execute_result"
    }
   ],
   "source": [
    "clf.fit(X_train,y_train)"
   ]
  },
  {
   "cell_type": "code",
   "execution_count": 137,
   "id": "b1471ef6",
   "metadata": {},
   "outputs": [
    {
     "data": {
      "text/plain": [
       "0.99822"
      ]
     },
     "execution_count": 137,
     "metadata": {},
     "output_type": "execute_result"
    }
   ],
   "source": [
    "clf.score(x_test,y_test)"
   ]
  },
  {
   "cell_type": "code",
   "execution_count": 138,
   "id": "94d87610",
   "metadata": {},
   "outputs": [],
   "source": [
    "from sklearn.metrics import confusion_matrix\n",
    "y_pred = clf.predict(x_test)\n",
    "cm = confusion_matrix(y_test,y_pred)"
   ]
  },
  {
   "cell_type": "code",
   "execution_count": 139,
   "id": "4b419167",
   "metadata": {},
   "outputs": [
    {
     "data": {
      "text/plain": [
       "array([[    51,    356],\n",
       "       [     0, 199593]], dtype=int64)"
      ]
     },
     "execution_count": 139,
     "metadata": {},
     "output_type": "execute_result"
    }
   ],
   "source": [
    "cm"
   ]
  },
  {
   "cell_type": "code",
   "execution_count": 140,
   "id": "b182bc98",
   "metadata": {},
   "outputs": [
    {
     "name": "stdout",
     "output_type": "stream",
     "text": [
      "              precision    recall  f1-score   support\n",
      "\n",
      "           0       1.00      0.13      0.22       407\n",
      "           1       1.00      1.00      1.00    199593\n",
      "\n",
      "    accuracy                           1.00    200000\n",
      "   macro avg       1.00      0.56      0.61    200000\n",
      "weighted avg       1.00      1.00      1.00    200000\n",
      "\n"
     ]
    }
   ],
   "source": [
    "from sklearn.metrics import classification_report\n",
    "print(classification_report(y_test,y_pred))"
   ]
  },
  {
   "cell_type": "code",
   "execution_count": null,
   "id": "f112aa52",
   "metadata": {},
   "outputs": [],
   "source": []
  }
 ],
 "metadata": {
  "kernelspec": {
   "display_name": "Python 3 (ipykernel)",
   "language": "python",
   "name": "python3"
  },
  "language_info": {
   "codemirror_mode": {
    "name": "ipython",
    "version": 3
   },
   "file_extension": ".py",
   "mimetype": "text/x-python",
   "name": "python",
   "nbconvert_exporter": "python",
   "pygments_lexer": "ipython3",
   "version": "3.9.6"
  }
 },
 "nbformat": 4,
 "nbformat_minor": 5
}
